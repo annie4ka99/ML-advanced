{
 "cells": [
  {
   "cell_type": "code",
   "execution_count": null,
   "id": "bfaee241",
   "metadata": {},
   "outputs": [],
   "source": [
    "from dqn.dqn_atari import dqn_atari, montezuma_process, save, load_all_stats\n",
    "from utils.plots import draw"
   ]
  },
  {
   "cell_type": "code",
   "execution_count": 11,
   "id": "f358e4ce",
   "metadata": {},
   "outputs": [
    {
     "name": "stdout",
     "output_type": "stream",
     "text": [
      "minimum experience gained on episode 35 . Training started\n",
      "episode: 100 total reward: 0.0 eps: 0.96567760000113 \n",
      "avg reward/clipped (last 100): 0.0 / 0.0 \n",
      "avg loss(last 100): 2.0149129772061766e-05 \n",
      "time: 649.6724474430084 seconds total weights updates: 9534\n",
      "-------------------------------------------------------------------------\n",
      "episode: 200 total reward: 0.0 eps: 0.9131059000028608 \n",
      "avg reward/clipped (last 100): 0.0 / 0.0 \n",
      "avg loss(last 100): 1.4990804490028231e-05 \n",
      "time: 903.3083963394165 seconds total weights updates: 24138\n",
      "-------------------------------------------------------------------------\n",
      "episode: 300 total reward: 0.0 eps: 0.8544583000047917 \n",
      "avg reward/clipped (last 100): 0.0 / 0.0 \n",
      "avg loss(last 100): 2.0191966882761813e-05 \n",
      "time: 1002.1323850154877 seconds total weights updates: 40429\n",
      "-------------------------------------------------------------------------\n",
      "episode: 400 total reward: 0.0 eps: 0.794523700006765 \n",
      "avg reward/clipped (last 100): 0.9900990099009901 / 0.009900990099009901 \n",
      "avg loss(last 100): 2.51070673531123e-05 \n",
      "time: 1026.5188899040222 seconds total weights updates: 57077\n",
      "-------------------------------------------------------------------------\n",
      "episode: 500 total reward: 0.0 eps: 0.7471738000083239 \n",
      "avg reward/clipped (last 100): 0.0 / 0.0 \n",
      "avg loss(last 100): 3.111888353001465e-05 \n",
      "time: 810.2453870773315 seconds total weights updates: 70230\n",
      "-------------------------------------------------------------------------\n",
      "episode: 600 total reward: 0.0 eps: 0.6734395000107515 \n",
      "avg reward/clipped (last 100): 0.0 / 0.0 \n",
      "avg loss(last 100): 3.382616945265205e-05 \n",
      "time: 1260.75634431839 seconds total weights updates: 90712\n",
      "-------------------------------------------------------------------------\n",
      "episode: 700 total reward: 0.0 eps: 0.6232429000124041 \n",
      "avg reward/clipped (last 100): 0.0 / 0.0 \n",
      "avg loss(last 100): 3.492699914767994e-05 \n",
      "time: 860.2047958374023 seconds total weights updates: 104655\n",
      "-------------------------------------------------------------------------\n",
      "episode: 800 total reward: 0.0 eps: 0.5275234000155555 \n",
      "avg reward/clipped (last 100): 0.0 / 0.0 \n",
      "avg loss(last 100): 3.7478410409669454e-05 \n",
      "time: 1628.9875717163086 seconds total weights updates: 131244\n",
      "-------------------------------------------------------------------------\n",
      "episode: 900 total reward: 0.0 eps: 0.42570820001432536 \n",
      "avg reward/clipped (last 100): 0.0 / 0.0 \n",
      "avg loss(last 100): 0.00015829386149367785 \n",
      "time: 1710.415385723114 seconds total weights updates: 159526\n",
      "-------------------------------------------------------------------------\n",
      "avg reward for last 100 episodes: 0.0\n"
     ]
    }
   ],
   "source": [
    "nn1, rewards1, qs1, losses1 = dqn_atari('MontezumaRevengeNoFrameskip-v4', montezuma_process, episodes_num = 1000)"
   ]
  },
  {
   "cell_type": "code",
   "execution_count": null,
   "id": "c97162cc",
   "metadata": {},
   "outputs": [],
   "source": [
    "savings = 'savings/montezuma'"
   ]
  },
  {
   "cell_type": "code",
   "execution_count": 12,
   "id": "f94be02a",
   "metadata": {},
   "outputs": [],
   "source": [
    "save(savings, 1, nn1, rewards1, qs1, losses1)"
   ]
  }
 ],
 "metadata": {
  "kernelspec": {
   "display_name": "Python 3 (ipykernel)",
   "language": "python",
   "name": "python3"
  },
  "language_info": {
   "codemirror_mode": {
    "name": "ipython",
    "version": 3
   },
   "file_extension": ".py",
   "mimetype": "text/x-python",
   "name": "python",
   "nbconvert_exporter": "python",
   "pygments_lexer": "ipython3",
   "version": "3.7.6"
  }
 },
 "nbformat": 4,
 "nbformat_minor": 5
}
